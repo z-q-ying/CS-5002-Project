{
 "cells": [
  {
   "cell_type": "markdown",
   "metadata": {},
   "source": [
    "1. Import necessary libraries:"
   ]
  },
  {
   "cell_type": "code",
   "execution_count": null,
   "metadata": {},
   "outputs": [],
   "source": [
    "import networkx as nx\n",
    "import matplotlib.pyplot as plt\n",
    "import csv\n"
   ]
  },
  {
   "cell_type": "markdown",
   "metadata": {},
   "source": [
    "2. Define the input file name and initialize an empty dictionary to store the data. Read the CSV file and store the data in the dictionary:"
   ]
  },
  {
   "cell_type": "code",
   "execution_count": null,
   "metadata": {},
   "outputs": [],
   "source": [
    "filename = \"event_planning.csv\"\n",
    "data = []\n",
    "\n",
    "with open(filename, newline='', encoding='UTF-8') as csvfile:\n",
    "    reader = csv.DictReader(csvfile)\n",
    "    for row in reader:\n",
    "        data.append(row)"
   ]
  },
  {
   "cell_type": "markdown",
   "metadata": {},
   "source": [
    "3. Define the virtual start and end nodes, and build the node dictionary and edge list based on the input data:"
   ]
  },
  {
   "cell_type": "code",
   "execution_count": null,
   "metadata": {},
   "outputs": [],
   "source": [
    "start_node = 'VI'\n",
    "end_node = 'VO'\n",
    "node_dict = {start_node: 0, 'A': 3, 'B': 2, 'C': 2, 'D': 4,\n",
    "             'E': 3, 'F': 2, 'G': 3, 'H': 1, 'I': 5,\n",
    "             'J': 2, 'K': 10, end_node: 0}\n",
    "edge_list = [(start_node, 'A'), (start_node, 'B'), ('A', 'C'), ('B', 'C'),\n",
    "             ('C', 'D'), ('C', 'E'), ('E', 'F'), ('D', 'F'),\n",
    "             ('C', 'G'), ('G', 'H'), ('F', 'I'), ('H', 'J'),\n",
    "             ('I', 'J'), ('J', 'K'), ('K', end_node)]\n"
   ]
  },
  {
   "cell_type": "markdown",
   "metadata": {},
   "source": [
    "5. Add the edges to a directed graph object. And check if the graph is a valid directed acyclic graph (DAG):"
   ]
  },
  {
   "cell_type": "code",
   "execution_count": null,
   "metadata": {},
   "outputs": [],
   "source": [
    "G = nx.DiGraph()\n",
    "G.add_edges_from(edge_list)\n",
    "\n",
    "is_valid_DAG = nx.is_directed_acyclic_graph(G)\n",
    "print(f'G is a valid directed acyclic graph: {is_valid_DAG}')"
   ]
  },
  {
   "cell_type": "markdown",
   "metadata": {},
   "source": [
    "6. Define a function to find the longest path in the DAG using a brute-force approach. Call the function to find the longest path and its length:"
   ]
  },
  {
   "cell_type": "code",
   "execution_count": null,
   "metadata": {},
   "outputs": [],
   "source": [
    "def find_longest_path(graph, start, end):\n",
    "    longest_path = []\n",
    "    longest_length = float('-inf')  # Initialize to negative infinity\n",
    "\n",
    "    for path in nx.all_simple_paths(graph, start, end):\n",
    "        length = 0\n",
    "        for node in path:\n",
    "            length += node_dict[node]\n",
    "        if length > longest_length:\n",
    "            longest_length = length\n",
    "            longest_path = path\n",
    "\n",
    "    return longest_path, longest_length\n",
    "\n",
    "longest_path, longest_length = find_longest_path(G, start_node, end_node)\n"
   ]
  },
  {
   "cell_type": "markdown",
   "metadata": {},
   "source": [
    "7. Get the edges of the longest path:"
   ]
  },
  {
   "cell_type": "code",
   "execution_count": null,
   "metadata": {},
   "outputs": [],
   "source": [
    "edges_lp = list(zip(longest_path, longest_path[1:]))\n"
   ]
  },
  {
   "cell_type": "markdown",
   "metadata": {},
   "source": [
    "8. Visualize the graph using a spring layout(can use other layout, too), and color the nodes and edges of the critical path:"
   ]
  },
  {
   "cell_type": "code",
   "execution_count": null,
   "metadata": {},
   "outputs": [],
   "source": [
    "pos = nx.spring_layout(G)  # other layout options available:  spectral, planar, random, etc.\n",
    "node_col = ['red' if node in longest_path else 'steelblue' for node in G.nodes()]\n",
    "edge_colors = ['red' if edge in edges_lp else 'grey' for edge in G.edges()]"
   ]
  },
  {
   "cell_type": "markdown",
   "metadata": {},
   "source": [
    "9. Format and plot the graph. Apply the data visualization."
   ]
  },
  {
   "cell_type": "code",
   "execution_count": null,
   "metadata": {},
   "outputs": [],
   "source": [
    "nx.draw(G, pos, with_labels=True, font_color='white', edge_color=edge_colors,\n",
    "        node_color=node_col)"
   ]
  },
  {
   "cell_type": "markdown",
   "metadata": {},
   "source": [
    "12. Finally, save the graph as a PNG file"
   ]
  },
  {
   "cell_type": "code",
   "execution_count": null,
   "metadata": {},
   "outputs": [],
   "source": [
    "def save_graph(filename):\n",
    "    \"\"\"Helper function to save the graph\"\"\"\n",
    "    filename = filename + '.png'\n",
    "    plt.savefig(filename, format=\"PNG\")\n",
    "    \n",
    "save_graph('g15')\n",
    "plt.show()\n",
    "plt.clf()"
   ]
  }
 ],
 "metadata": {
  "kernelspec": {
   "display_name": "Python 3.10.4 64-bit",
   "language": "python",
   "name": "python3"
  },
  "language_info": {
   "codemirror_mode": {
    "name": "ipython",
    "version": 3
   },
   "file_extension": ".py",
   "mimetype": "text/x-python",
   "name": "python",
   "nbconvert_exporter": "python",
   "pygments_lexer": "ipython3",
   "version": "3.10.4"
  },
  "orig_nbformat": 4,
  "vscode": {
   "interpreter": {
    "hash": "aee8b7b246df8f9039afb4144a1f6fd8d2ca17a180786b69acc140d282b71a49"
   }
  }
 },
 "nbformat": 4,
 "nbformat_minor": 2
}
