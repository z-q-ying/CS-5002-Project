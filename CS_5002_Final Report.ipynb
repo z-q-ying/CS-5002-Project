{
 "cells": [
  {
   "attachments": {},
   "cell_type": "markdown",
   "metadata": {},
   "source": [
    "### <font color='e28743'>CS_5002 Final Project<font><a class='anchor' id='top'></a>\n",
    "- [Step 1: Process input data](#s1) \n",
    "- [Step 2: Represent the graph using NetworkX](#s2)\n",
    "- [Step 3: Find the critical path](#s3)\n",
    "- [Step 4: Format and plot](#s4)\n",
    "- [Step 5: Generate summarized message](#s5)\n",
    "\n"
   ]
  },
  {
   "attachments": {},
   "cell_type": "markdown",
   "metadata": {},
   "source": [
    "<h2 align=\"left\"><font color='lightgreen'>Code Review</font></h2>\n"
   ]
  },
  {
   "attachments": {},
   "cell_type": "markdown",
   "metadata": {},
   "source": [
    "<p1 align=\"left\"><font color='orange'>Step 1: Process input data </font></p1>  <a id='#s1'></a> - [back to top](#top)"
   ]
  },
  {
   "cell_type": "code",
   "execution_count": 49,
   "metadata": {},
   "outputs": [
    {
     "name": "stdout",
     "output_type": "stream",
     "text": [
      "\n",
      "Done with step 1: Process input data\n",
      "id_duration_dict: {'VI': 0, 'VO': 0, 'A:5': 5, 'B:4': 4, 'C:8': 8, 'D:5': 5, 'E:4': 4, 'F:4': 4, 'G:3': 3, 'H:3': 3, 'I:1': 1, 'J:2': 2}\n",
      "id_to_name_dict: {'VI': 'VI', 'VO': 'VO', 'A': 'A:5', 'B': 'B:4', 'C': 'C:8', 'D': 'D:5', 'E': 'E:4', 'F': 'F:4', 'G': 'G:3', 'H': 'H:3', 'I': 'I:1', 'J': 'J:2'}\n",
      "id_description_dict: {'A': 'Plan the event (Event Coordinator)', 'B': 'Select products (Purchaser)', 'C': 'Design promotional materials (Graphic Designer)', 'D': 'Coordinate with suppliers (Purchaser)', 'E': 'Prepare email content (Marketing)', 'F': 'Print promotional materials (Printer)', 'G': 'Assemble email campaign (Marketing)', 'H': 'Distribute promotional materials (Retail Staff)', 'I': 'Launch email campaign (Marketing)', 'J': 'Execute promotional event (Retail Staff)'}\n",
      "edge_list [('VI', 'A:5'), ('VI', 'B:4'), ('A:5', 'C:8'), ('B:4', 'C:8'), ('C:8', 'D:5'), ('C:8', 'E:4'), ('D:5', 'F:4'), ('E:4', 'F:4'), ('C:8', 'G:3'), ('F:4', 'H:3'), ('G:3', 'H:3'), ('G:3', 'I:1'), ('H:3', 'J:2'), ('I:1', 'VO'), ('J:2', 'VO')]\n"
     ]
    }
   ],
   "source": [
    "import networkx as nx\n",
    "import matplotlib.pyplot as plt\n",
    "import csv\n",
    "\n",
    "######################\n",
    "# Process input data #\n",
    "######################\n",
    "\n",
    "# Read input data from CSV file and process it\n",
    "filename = \"event_planning.csv\"\n",
    "\n",
    "# Define virtual start and end nodes\n",
    "start_node, end_node = 'VI', 'VO'\n",
    "\n",
    "# # Initialize dictionaries and edge_list to store processed data\n",
    "id_duration_dict = {start_node: 0, end_node: 0}\n",
    "id_to_name_dict = {start_node: start_node, end_node: end_node}\n",
    "id_description_dict = {}\n",
    "edge_list = []\n",
    "\n",
    "# Read and process CSV file\n",
    "with open(filename, 'r', encoding='UTF-8') as file:\n",
    "    reader = csv.reader(file)\n",
    "    next(reader)  # skip header row\n",
    "\n",
    "    for row in reader:\n",
    "        # Process each row and update dictionaries and edge_list\n",
    "        node_label = row[0]\n",
    "        description = row[1]\n",
    "        duration = int(row[2]) if row[2] else 0\n",
    "        preceding = row[3].split(',') if row[3] else []\n",
    "        \n",
    "        # Deal with potential duplicate row inputs (as identified by id)\n",
    "        if node_label in id_to_name_dict:\n",
    "            continue\n",
    "\n",
    "        # Add the node and its duration to id_to_name_dict\n",
    "        id_to_name_dict[node_label] = node_label+':'+str(duration)\n",
    "\n",
    "        # Add the node and its duration to node_duration_dict\n",
    "        id_duration_dict[id_to_name_dict[node_label]] = duration\n",
    "\n",
    "        # Add the node and its description to node_description_dict\n",
    "        id_description_dict[node_label] = description\n",
    "\n",
    "        # If node has no preceding node, add edge from virtual start node\n",
    "        if not preceding:\n",
    "            edge = (id_to_name_dict[start_node], id_to_name_dict[node_label])\n",
    "            if edge not in edge_list:\n",
    "                edge_list.append(edge)\n",
    "        else:\n",
    "            # If node has preceding nodes, add edges accordingly\n",
    "            for p in preceding:\n",
    "                s = p.strip()\n",
    "                edge = (id_to_name_dict[s], id_to_name_dict[node_label])\n",
    "                if edge not in edge_list:\n",
    "                    edge_list.append(edge)\n",
    "\n",
    "# If node is not being pointed to, add edge to virtual end node\n",
    "for node_label in id_duration_dict.keys():\n",
    "    if node_label not in [e[0] for e in edge_list] and node_label != end_node:\n",
    "        edge = (node_label, id_to_name_dict[end_node])\n",
    "        if edge not in edge_list:\n",
    "            edge_list.append(edge)\n",
    "\n",
    "\n",
    "# Print processed input data\n",
    "print('\\nDone with step 1: Process input data')\n",
    "print('id_duration_dict:', id_duration_dict)\n",
    "print('id_to_name_dict:', id_to_name_dict)\n",
    "print('id_description_dict:', id_description_dict)\n",
    "print('edge_list', edge_list)\n"
   ]
  },
  {
   "attachments": {},
   "cell_type": "markdown",
   "metadata": {},
   "source": [
    " <a id='s2'></a>\n",
    " <p1 align=\"left\"><font color='orange'>Step 2: Represent the graph using NetworkX </font></p1> - [back to top](#top)"
   ]
  },
  {
   "cell_type": "code",
   "execution_count": 50,
   "metadata": {},
   "outputs": [
    {
     "name": "stdout",
     "output_type": "stream",
     "text": [
      "\n",
      "Done with step 2: Represent the graph using networkx\n",
      "G is now a DiGraph with 12 nodes and 15 edges\n",
      "G is a valid directed acyclic graph: True\n"
     ]
    }
   ],
   "source": [
    "\n",
    "######################################\n",
    "# Represent the graph using networkx #\n",
    "######################################\n",
    "\n",
    "# Create a directed graph object and add edges from the edge_list\n",
    "G = nx.DiGraph()\n",
    "G.add_edges_from(edge_list)\n",
    "\n",
    "# Check if G is a valid Directed Acyclic Graph (DAG)\n",
    "is_valid_DAG = nx.is_directed_acyclic_graph(G)\n",
    "\n",
    "# Print graph representation information\n",
    "print('\\nDone with step 2: Represent the graph using networkx')\n",
    "print(f'G is now a {G}')\n",
    "print(f'G is a valid directed acyclic graph: {is_valid_DAG}')\n"
   ]
  },
  {
   "attachments": {},
   "cell_type": "markdown",
   "metadata": {},
   "source": [
    "<a id = 's3'></a>\n",
    "<p1 align=\"left\"><font color='orange'>Step 3: Find the critical path / the longest path</font></p1>  - [back to top](#top)"
   ]
  },
  {
   "cell_type": "code",
   "execution_count": 51,
   "metadata": {},
   "outputs": [
    {
     "name": "stdout",
     "output_type": "stream",
     "text": [
      "\n",
      "Done with step 3: Find the critical path\n",
      "The longest path is ['A:5', 'C:8', 'D:5', 'F:4', 'H:3', 'J:2'] with a length of 27\n",
      "The edges of the longest path is [('A:5', 'C:8'), ('C:8', 'D:5'), ('D:5', 'F:4'), ('F:4', 'H:3'), ('H:3', 'J:2')]\n"
     ]
    }
   ],
   "source": [
    "\n",
    "##########################\n",
    "# Find the critical path #\n",
    "##########################\n",
    "\n",
    "# Function to find the longest path (brute-force approach)\n",
    "def find_longest_path(graph, start, end):\n",
    "    longest_path = []\n",
    "    longest_length = float('-inf')  # Initialize to negative infinity\n",
    "\n",
    "    for path in nx.all_simple_paths(graph, start, end):\n",
    "        # print(path)  # Test: 6 simple paths from VI to VO\n",
    "        length = 0\n",
    "        for node in path:\n",
    "            length += id_duration_dict[node]\n",
    "        if length > longest_length:\n",
    "            longest_length = length\n",
    "            longest_path = path\n",
    "\n",
    "    return longest_path, longest_length\n",
    "\n",
    "\n",
    "# Find the longest path and its length\n",
    "longest_path, longest_length = find_longest_path(G, start_node, end_node)\n",
    "edges_lp = list(zip(longest_path, longest_path[1:]))\n",
    "\n",
    "# Update data structures by removing virtual nodes\n",
    "id_duration_dict.pop(start_node)\n",
    "id_duration_dict.pop(end_node)\n",
    "edge_list = [edge for edge in edge_list if start_node not in edge and end_node not in edge]\n",
    "longest_path.pop(0)\n",
    "longest_path.pop(len(longest_path)-1)\n",
    "edges_lp = [edge for edge in edges_lp if start_node not in edge and end_node not in edge]\n",
    "G.remove_node(start_node)\n",
    "G.remove_node(end_node)\n",
    "\n",
    "# Print critical path information\n",
    "print('\\nDone with step 3: Find the critical path')\n",
    "print('The longest path is', longest_path, 'with a length of', longest_length)\n",
    "print('The edges of the longest path is', edges_lp)\n"
   ]
  },
  {
   "attachments": {},
   "cell_type": "markdown",
   "metadata": {},
   "source": [
    "<p1 align=\"left\"><font color='orange'>Step 4: Format and plot</font></p1>  <a id='s4'></a> - [back to top](#top)"
   ]
  },
  {
   "cell_type": "code",
   "execution_count": 52,
   "metadata": {},
   "outputs": [
    {
     "data": {
      "image/png": "[encoded data removed]",
      "text/plain": [
       "<Figure size 640x480 with 1 Axes>"
      ]
     },
     "metadata": {},
     "output_type": "display_data"
    },
    {
     "name": "stdout",
     "output_type": "stream",
     "text": [
      "\n",
      "Done with step 4: Format and plot\n",
      "Picture is stored as event_planning.csv.png\n"
     ]
    },
    {
     "data": {
      "text/plain": [
       "<Figure size 640x480 with 0 Axes>"
      ]
     },
     "metadata": {},
     "output_type": "display_data"
    }
   ],
   "source": [
    "\n",
    "###################\n",
    "# Format and plot #\n",
    "###################\n",
    "\n",
    "# Set layout options and draw the graph using matplotlib\n",
    "plt.figure()\n",
    "pos = nx.shell_layout(G)\n",
    "pos = {k: (v[0], -v[1]) for k, v in pos.items()}\n",
    "node_col = ['red' if node in longest_path else 'steelblue' for node in G.nodes()]\n",
    "edge_colors = ['red' if edge in edges_lp else 'grey' for edge in G.edges()]\n",
    "\n",
    "# Draw DAG\n",
    "nx.draw(G, pos, with_labels=True, font_color='white', edge_color=edge_colors,\n",
    "        node_color=node_col, node_size=700)\n",
    "\n",
    "# Save graph plot to file and display it\n",
    "filename = filename + '.png'\n",
    "plt.savefig(filename, format=\"PNG\")\n",
    "plt.show()\n",
    "plt.clf()\n",
    "\n",
    "# Print plot information\n",
    "print('\\nDone with step 4: Format and plot')\n",
    "print(f'Picture is stored as {filename}')\n",
    "\n"
   ]
  },
  {
   "attachments": {},
   "cell_type": "markdown",
   "metadata": {},
   "source": [
    "<p1 align=\"left\"><font color='orange'>Step 5: Generate summarized message</font></p1>  <a id='s5'></a> - [back to top](#top)"
   ]
  },
  {
   "cell_type": "code",
   "execution_count": 53,
   "metadata": {},
   "outputs": [
    {
     "name": "stdout",
     "output_type": "stream",
     "text": [
      "\n",
      "SUMMARY\n",
      "\n",
      "The critical path consists of the following tasks:\n",
      "1. A: Plan the event (Event Coordinator) (5 days)\n",
      "2. C: Design promotional materials (Graphic Designer) (8 days)\n",
      "3. D: Coordinate with suppliers (Purchaser) (5 days)\n",
      "4. F: Print promotional materials (Printer) (4 days)\n",
      "5. H: Distribute promotional materials (Retail Staff) (3 days)\n",
      "6. J: Execute promotional event (Retail Staff) (2 days)\n",
      "\n",
      "The total duration of the critical path is 27 days.\n",
      "\n",
      "REFERENCE\n",
      "\n",
      "The tasks NOT on the critical path are:\n",
      "B: Select products (Purchaser) (4 days)\n",
      "E: Prepare email content (Marketing) (4 days)\n",
      "G: Assemble email campaign (Marketing) (3 days)\n",
      "I: Launch email campaign (Marketing) (1 days)\n",
      "\n"
     ]
    }
   ],
   "source": [
    "\n",
    "###########################\n",
    "# Generate output message #\n",
    "###########################\n",
    "\n",
    "# Function to generate and print a summary of the critical path\n",
    "def generate_summary(longest_path, longest_length, id_description_dict):\n",
    "    summary = \"The critical path consists of the following tasks:\\n\"\n",
    "    \n",
    "    for idx, task in enumerate(longest_path):\n",
    "        task_id = task.split(':')[0]\n",
    "        task_description = id_description_dict[task_id]\n",
    "        task_duration = task.split(':')[1]\n",
    "        summary += f\"{idx + 1}. {task_id}: {task_description} ({task_duration} days)\\n\"\n",
    "    \n",
    "    summary += f\"\\nThe total duration of the critical path is {longest_length} days.\"\n",
    "    \n",
    "    return summary\n",
    "\n",
    "# Function to generate and print a summary of the non-critical path\n",
    "def generate_non_critical_summary(longest_path, id_description_dict):\n",
    "    non_critical_summary = \"The tasks NOT on the critical path are:\\n\"\n",
    "    \n",
    "    for id in id_description_dict:\n",
    "        id_duration = id_to_name_dict[id]\n",
    "        if id_duration not in longest_path:\n",
    "            id_description = id_description_dict[id]\n",
    "            id_duration = id_duration_dict[id_duration]\n",
    "            non_critical_summary += f\"{id}: {id_description} ({id_duration} days)\\n\"\n",
    "    \n",
    "    return non_critical_summary\n",
    "\n",
    "\n",
    "# Generate the summary and print it\n",
    "print(f'\\nSUMMARY\\n')\n",
    "summary = generate_summary(longest_path, longest_length, id_description_dict)\n",
    "print(summary)\n",
    "\n",
    "# Generate the non-critical tasks summary and print it\n",
    "print(f'\\nREFERENCE\\n')\n",
    "non_critical_summary = generate_non_critical_summary(longest_path, id_description_dict)\n",
    "print(non_critical_summary)"
   ]
  }
 ],
 "metadata": {
  "kernelspec": {
   "display_name": "Python 3.10.4 64-bit",
   "language": "python",
   "name": "python3"
  },
  "language_info": {
   "codemirror_mode": {
    "name": "ipython",
    "version": 3
   },
   "file_extension": ".py",
   "mimetype": "text/x-python",
   "name": "python",
   "nbconvert_exporter": "python",
   "pygments_lexer": "ipython3",
   "version": "3.9.6"
  },
  "orig_nbformat": 4,
  "vscode": {
   "interpreter": {
    "hash": "aee8b7b246df8f9039afb4144a1f6fd8d2ca17a180786b69acc140d282b71a49"
   }
  }
 },
 "nbformat": 4,
 "nbformat_minor": 2
}
